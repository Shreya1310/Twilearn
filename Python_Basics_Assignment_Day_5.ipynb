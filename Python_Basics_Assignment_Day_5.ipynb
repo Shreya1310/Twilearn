{
  "cells": [
    {
      "cell_type": "markdown",
      "metadata": {
        "id": "view-in-github",
        "colab_type": "text"
      },
      "source": [
        "<a href=\"https://colab.research.google.com/github/Shreya1310/Twilearn/blob/main/Python_Basics_Assignment_Day_5.ipynb\" target=\"_parent\"><img src=\"https://colab.research.google.com/assets/colab-badge.svg\" alt=\"Open In Colab\"/></a>"
      ]
    },
    {
      "cell_type": "markdown",
      "metadata": {
        "id": "yVE7L7dorP4H"
      },
      "source": [
        "<a id='1'></a><center> <h3 style=\"background-color:orange; color:white\" ><br>Python Basics<br></h3>"
      ]
    },
    {
      "cell_type": "code",
      "execution_count": null,
      "metadata": {
        "colab": {
          "base_uri": "https://localhost:8080/"
        },
        "execution": {
          "iopub.execute_input": "2021-12-13T05:20:57.005459Z",
          "iopub.status.busy": "2021-12-13T05:20:57.005028Z",
          "iopub.status.idle": "2021-12-13T05:20:57.039904Z",
          "shell.execute_reply": "2021-12-13T05:20:57.038882Z",
          "shell.execute_reply.started": "2021-12-13T05:20:57.005334Z"
        },
        "id": "kOtDhbwWrP4I",
        "outputId": "18e09986-46a9-49d9-a354-bb2f83f87583"
      },
      "outputs": [
        {
          "output_type": "stream",
          "name": "stdout",
          "text": [
            "Shreya Chand\n"
          ]
        }
      ],
      "source": [
        "# What is your name! print your name!\n",
        "# Only use one print function\n",
        "print(\"Shreya Chand\")\n"
      ]
    },
    {
      "cell_type": "markdown",
      "metadata": {
        "id": "kJxHTHrVrP4I"
      },
      "source": [
        "* `()` <= `Parentheses`\n",
        "* `''` <= `Single Quotes`\n",
        "* `\"\"` <= `Double Quotes`\n",
        "* `\\n` <= `New_line `\n",
        "* `#` <= `Used to comment inside code`"
      ]
    },
    {
      "cell_type": "code",
      "execution_count": null,
      "metadata": {
        "execution": {
          "iopub.execute_input": "2021-12-13T05:40:01.121499Z",
          "iopub.status.busy": "2021-12-13T05:40:01.12116Z",
          "iopub.status.idle": "2021-12-13T05:40:01.126402Z",
          "shell.execute_reply": "2021-12-13T05:40:01.125708Z",
          "shell.execute_reply.started": "2021-12-13T05:40:01.121464Z"
        },
        "id": "hqiWhz6srP4K"
      },
      "outputs": [],
      "source": [
        "# define variables named as with values: mukesh=7, z=6, rohan=5, longitude=4\n",
        "mukesh=7\n",
        "z=6\n",
        "rohan=5\n",
        "longitude=4"
      ]
    },
    {
      "cell_type": "code",
      "execution_count": null,
      "metadata": {
        "colab": {
          "base_uri": "https://localhost:8080/"
        },
        "execution": {
          "iopub.execute_input": "2021-12-13T05:40:18.616711Z",
          "iopub.status.busy": "2021-12-13T05:40:18.615837Z",
          "iopub.status.idle": "2021-12-13T05:40:18.625081Z",
          "shell.execute_reply": "2021-12-13T05:40:18.624216Z",
          "shell.execute_reply.started": "2021-12-13T05:40:18.616672Z"
        },
        "id": "W77FFVIqrP4K",
        "outputId": "fa5fce73-df0f-434a-c6fc-26fc28f100ab"
      },
      "outputs": [
        {
          "output_type": "stream",
          "name": "stdout",
          "text": [
            "5\n"
          ]
        }
      ],
      "source": [
        "# print required variable\n",
        "# output - 5\n",
        "print(rohan)"
      ]
    },
    {
      "cell_type": "markdown",
      "metadata": {
        "id": "89kwQhu5rP4K"
      },
      "source": [
        "Variable Assignment:\n",
        "**`Variable_Name = Value`**\n",
        "\n",
        "Variables Naming Rules:\n",
        "* `Python is case-senstive` => x=5 is different from X=5 (one is lowe and other is upper case)\n",
        "* `var name can't start with special character except underscore(_)` => _X = 7 is `valid`, @X = 7 is `invalid`\n",
        "* `var name can't start with number` => 9X = 7 is `invalid`, X9 = 7 is `valid`\n",
        "* can't use `keywords` as a variable name\n",
        "    *"
      ]
    },
    {
      "cell_type": "markdown",
      "metadata": {
        "id": "hiYt4qiJrP4K"
      },
      "source": [
        "# **`Declaring a Variable`** <br>\n"
      ]
    },
    {
      "cell_type": "code",
      "execution_count": null,
      "metadata": {
        "execution": {
          "iopub.execute_input": "2021-12-13T05:47:55.408175Z",
          "iopub.status.busy": "2021-12-13T05:47:55.407825Z",
          "iopub.status.idle": "2021-12-13T05:47:55.413447Z",
          "shell.execute_reply": "2021-12-13T05:47:55.412668Z",
          "shell.execute_reply.started": "2021-12-13T05:47:55.40814Z"
        },
        "id": "5pomjoc_rP4L"
      },
      "outputs": [],
      "source": [
        "# declare 4 variables with values as: ur_age 21,ur_weight 50.6, ur_first_name = 'Mukesh',ur_last_name = \"Manral\"\n",
        "ur_age= 21\n",
        "ur_weight =50.6\n",
        "ur_first_name = 'Mukesh'\n",
        "ur_last_name = \"Manral\"\n",
        "\n"
      ]
    },
    {
      "cell_type": "markdown",
      "metadata": {
        "id": "aD6_WvkKrP4L"
      },
      "source": [
        "# **`Data Type(Type of variable)`**"
      ]
    },
    {
      "cell_type": "markdown",
      "metadata": {
        "id": "snzoPkD3rP4L"
      },
      "source": [
        "| Name | Type | Description |\n",
        "| ---- | ---- | ----|\n",
        "|Integers | int | Integer number, like 34,-56 ...|\n",
        "|Float | float | Decimal number, like 3.4,-5.6 ...|\n",
        "|String| str | Ordered sequence of characters, like 'your name' |\n",
        "|Boolean |bool |Logical values indicating True or False only |"
      ]
    },
    {
      "cell_type": "code",
      "execution_count": null,
      "metadata": {
        "colab": {
          "base_uri": "https://localhost:8080/"
        },
        "execution": {
          "iopub.execute_input": "2021-12-13T05:48:10.44207Z",
          "iopub.status.busy": "2021-12-13T05:48:10.441594Z",
          "iopub.status.idle": "2021-12-13T05:48:10.449074Z",
          "shell.execute_reply": "2021-12-13T05:48:10.448114Z",
          "shell.execute_reply.started": "2021-12-13T05:48:10.442018Z"
        },
        "id": "Bb_fmhaOrP4L",
        "outputId": "ab8ac23b-b363-42d7-f419-7fbab044cbd0"
      },
      "outputs": [
        {
          "output_type": "stream",
          "name": "stdout",
          "text": [
            "<class 'int'>\n",
            "<class 'str'>\n",
            "<class 'float'>\n",
            "<class 'str'>\n"
          ]
        }
      ],
      "source": [
        "# print type of ur_age,ur_weight,ur_first_name,ur_last_name variables\n",
        "print(type(ur_age))\n",
        "print(type(ur_first_name))\n",
        "print(type(ur_weight))\n",
        "print(type(ur_last_name ))"
      ]
    },
    {
      "cell_type": "code",
      "execution_count": null,
      "metadata": {
        "colab": {
          "base_uri": "https://localhost:8080/"
        },
        "execution": {
          "iopub.execute_input": "2021-12-13T05:49:37.869716Z",
          "iopub.status.busy": "2021-12-13T05:49:37.86939Z",
          "iopub.status.idle": "2021-12-13T05:49:37.875995Z",
          "shell.execute_reply": "2021-12-13T05:49:37.875066Z",
          "shell.execute_reply.started": "2021-12-13T05:49:37.869681Z"
        },
        "id": "iaADKqUwrP4L",
        "outputId": "171e32f6-30f0-41e1-9088-ed85fabf6817"
      },
      "outputs": [
        {
          "output_type": "stream",
          "name": "stdout",
          "text": [
            "21\n",
            "Mukesh\n",
            "50.6\n",
            "Manral\n"
          ]
        }
      ],
      "source": [
        "# print values of ur_age,ur_weight,ur_first_name,ur_last_name variables\n",
        "print(ur_age)\n",
        "print(ur_first_name)\n",
        "print(ur_weight)\n",
        "print(ur_last_name )"
      ]
    },
    {
      "cell_type": "code",
      "execution_count": null,
      "metadata": {
        "colab": {
          "base_uri": "https://localhost:8080/"
        },
        "execution": {
          "iopub.execute_input": "2021-12-13T05:50:49.32591Z",
          "iopub.status.busy": "2021-12-13T05:50:49.325048Z",
          "iopub.status.idle": "2021-12-13T05:50:49.332343Z",
          "shell.execute_reply": "2021-12-13T05:50:49.331287Z",
          "shell.execute_reply.started": "2021-12-13T05:50:49.325858Z"
        },
        "id": "Hde3D2uQrP4L",
        "outputId": "4080edd1-5bb2-4f8c-9981-26f2d13d0848"
      },
      "outputs": [
        {
          "output_type": "execute_result",
          "data": {
            "text/plain": [
              "True"
            ]
          },
          "metadata": {},
          "execution_count": 8
        }
      ],
      "source": [
        "# make 2 variables with values as: ur_first_name 'Mukesh',ur_last_name'Mukesh'\n",
        "ur_first_name = 'Mukesh'\n",
        "ur_last_name = \"Mukesh\"\n",
        "\n",
        "# make a variable TrueOrFalse which will have comparison of variables ur_last_name == ur_first_name\n",
        "ur_first_name ==ur_last_name"
      ]
    },
    {
      "cell_type": "code",
      "execution_count": null,
      "metadata": {
        "id": "noNgwyv60Orm"
      },
      "outputs": [],
      "source": []
    },
    {
      "cell_type": "code",
      "execution_count": null,
      "metadata": {
        "execution": {
          "iopub.execute_input": "2021-12-13T06:51:26.536827Z",
          "iopub.status.busy": "2021-12-13T06:51:26.536555Z",
          "iopub.status.idle": "2021-12-13T06:51:26.540484Z",
          "shell.execute_reply": "2021-12-13T06:51:26.539662Z",
          "shell.execute_reply.started": "2021-12-13T06:51:26.536795Z"
        },
        "id": "39JWxM7KrP4M",
        "colab": {
          "base_uri": "https://localhost:8080/"
        },
        "outputId": "1563e278-c553-4f51-812a-e1e9f75b30fa"
      },
      "outputs": [
        {
          "output_type": "execute_result",
          "data": {
            "text/plain": [
              "777"
            ]
          },
          "metadata": {},
          "execution_count": 9
        }
      ],
      "source": [
        "# define a variable name \"x\" and assign value 777 and print it\n",
        "x=777\n",
        "x\n"
      ]
    },
    {
      "cell_type": "markdown",
      "metadata": {
        "id": "QXnovK7lrP4M"
      },
      "source": [
        "* To view some data on screen, python have `print` function\n",
        "    * Using `print` function we can control view on output screen\n"
      ]
    },
    {
      "cell_type": "code",
      "execution_count": null,
      "metadata": {
        "id": "nLRSZYl60Orm"
      },
      "outputs": [],
      "source": []
    },
    {
      "cell_type": "markdown",
      "metadata": {
        "id": "4Wfm35b4rP4P"
      },
      "source": [
        "`Operators`: Symbols that represent mathematical or logical tasks\n",
        "\n",
        "Example:<br>\n",
        "`700` `+` `77`<br>\n",
        "* `+` <= Operator\n",
        "* `700` & `77` <= Operands\n"
      ]
    },
    {
      "cell_type": "code",
      "execution_count": null,
      "metadata": {
        "execution": {
          "iopub.execute_input": "2021-12-13T11:16:12.878107Z",
          "iopub.status.busy": "2021-12-13T11:16:12.87742Z",
          "iopub.status.idle": "2021-12-13T11:16:12.88218Z",
          "shell.execute_reply": "2021-12-13T11:16:12.881502Z",
          "shell.execute_reply.started": "2021-12-13T11:16:12.878061Z"
        },
        "id": "9eHULNrarP4Q"
      },
      "outputs": [],
      "source": [
        "# Initialize variables [x,y,z,zz] with values\n",
        "## x as 7 =>int ,\n",
        "## y as 77 =>int,\n",
        "## z as 77.7 => float,\n",
        "## zz as 'Hi' => string\n",
        "x=7\n",
        "y=77\n",
        "z=77.7\n",
        "zz=\"Hi\"\n"
      ]
    },
    {
      "cell_type": "markdown",
      "metadata": {
        "id": "kMGlbyturP4Q"
      },
      "source": [
        "# **`Arithmetic Operators`**"
      ]
    },
    {
      "cell_type": "code",
      "execution_count": null,
      "metadata": {
        "colab": {
          "base_uri": "https://localhost:8080/"
        },
        "execution": {
          "iopub.execute_input": "2021-12-13T11:16:16.831632Z",
          "iopub.status.busy": "2021-12-13T11:16:16.831361Z",
          "iopub.status.idle": "2021-12-13T11:16:16.837568Z",
          "shell.execute_reply": "2021-12-13T11:16:16.836727Z",
          "shell.execute_reply.started": "2021-12-13T11:16:16.831606Z"
        },
        "id": "_7X7ChdtrP4Q",
        "outputId": "475215ac-0321-4975-af42-670bd2564895"
      },
      "outputs": [
        {
          "output_type": "execute_result",
          "data": {
            "text/plain": [
              "84.7"
            ]
          },
          "metadata": {},
          "execution_count": 11
        }
      ],
      "source": [
        "# add x and z\n",
        "add=x+z\n",
        "add\n"
      ]
    },
    {
      "cell_type": "code",
      "execution_count": null,
      "metadata": {
        "colab": {
          "base_uri": "https://localhost:8080/"
        },
        "execution": {
          "iopub.execute_input": "2021-12-13T11:16:30.203003Z",
          "iopub.status.busy": "2021-12-13T11:16:30.20271Z",
          "iopub.status.idle": "2021-12-13T11:16:30.208385Z",
          "shell.execute_reply": "2021-12-13T11:16:30.207581Z",
          "shell.execute_reply.started": "2021-12-13T11:16:30.20297Z"
        },
        "id": "VWA9vqXbrP4R",
        "outputId": "31f7b90d-033f-4168-9de6-9feda57eb744"
      },
      "outputs": [
        {
          "output_type": "execute_result",
          "data": {
            "text/plain": [
              "0.7000000000000028"
            ]
          },
          "metadata": {},
          "execution_count": 12
        }
      ],
      "source": [
        "# subtract z and y\n",
        "sub=z-y\n",
        "sub\n"
      ]
    },
    {
      "cell_type": "code",
      "execution_count": null,
      "metadata": {
        "colab": {
          "base_uri": "https://localhost:8080/"
        },
        "execution": {
          "iopub.execute_input": "2021-12-13T11:16:33.722854Z",
          "iopub.status.busy": "2021-12-13T11:16:33.722346Z",
          "iopub.status.idle": "2021-12-13T11:16:33.727832Z",
          "shell.execute_reply": "2021-12-13T11:16:33.726714Z",
          "shell.execute_reply.started": "2021-12-13T11:16:33.722819Z"
        },
        "id": "Xs-S0MhCrP4R",
        "outputId": "2efae41d-bd0f-4804-b756-7a2710504ac1"
      },
      "outputs": [
        {
          "output_type": "execute_result",
          "data": {
            "text/plain": [
              "543.9"
            ]
          },
          "metadata": {},
          "execution_count": 13
        }
      ],
      "source": [
        "# Multiply x and z\n",
        "mul=x*z\n",
        "mul\n"
      ]
    },
    {
      "cell_type": "code",
      "execution_count": null,
      "metadata": {
        "colab": {
          "base_uri": "https://localhost:8080/"
        },
        "execution": {
          "iopub.status.busy": "2021-12-11T05:18:03.351545Z",
          "iopub.status.idle": "2021-12-11T05:18:03.351958Z",
          "shell.execute_reply": "2021-12-11T05:18:03.351816Z",
          "shell.execute_reply.started": "2021-12-11T05:18:03.3518Z"
        },
        "id": "QTAL9jikrP4R",
        "outputId": "65e687ac-9d92-408d-fe43-842676f9bd84"
      },
      "outputs": [
        {
          "output_type": "execute_result",
          "data": {
            "text/plain": [
              "17098071607986.627"
            ]
          },
          "metadata": {},
          "execution_count": 14
        }
      ],
      "source": [
        "# Exponent (raise the power or times) x times z\n",
        "exp=z**x\n",
        "exp\n"
      ]
    },
    {
      "cell_type": "code",
      "execution_count": null,
      "metadata": {
        "colab": {
          "base_uri": "https://localhost:8080/"
        },
        "execution": {
          "iopub.execute_input": "2021-12-13T11:16:54.593185Z",
          "iopub.status.busy": "2021-12-13T11:16:54.592323Z",
          "iopub.status.idle": "2021-12-13T11:16:54.599677Z",
          "shell.execute_reply": "2021-12-13T11:16:54.598843Z",
          "shell.execute_reply.started": "2021-12-13T11:16:54.593129Z"
        },
        "id": "veuOn9YcrP4R",
        "outputId": "14665c8d-bc90-4e60-d115-8ad7444f861d"
      },
      "outputs": [
        {
          "output_type": "execute_result",
          "data": {
            "text/plain": [
              "0.09009009009009009"
            ]
          },
          "metadata": {},
          "execution_count": 15
        }
      ],
      "source": [
        "# division on x and z\n",
        "div=x/z\n",
        "div"
      ]
    },
    {
      "cell_type": "markdown",
      "metadata": {
        "id": "lPSllBVYrP4R"
      },
      "source": [
        "`//` => divides and returns integer value of quotient\n",
        "* It will dump digits after decimal"
      ]
    },
    {
      "cell_type": "code",
      "execution_count": null,
      "metadata": {
        "colab": {
          "base_uri": "https://localhost:8080/"
        },
        "execution": {
          "iopub.execute_input": "2021-12-13T11:17:43.712052Z",
          "iopub.status.busy": "2021-12-13T11:17:43.711764Z",
          "iopub.status.idle": "2021-12-13T11:17:43.717685Z",
          "shell.execute_reply": "2021-12-13T11:17:43.716923Z",
          "shell.execute_reply.started": "2021-12-13T11:17:43.712021Z"
        },
        "id": "LjvFNdDHrP4R",
        "outputId": "08c90762-221c-4246-c193-5d199e8bd63c"
      },
      "outputs": [
        {
          "output_type": "execute_result",
          "data": {
            "text/plain": [
              "0.0"
            ]
          },
          "metadata": {},
          "execution_count": 16
        }
      ],
      "source": [
        "# floor division(ignores decimal) on x and z (gives quotient)\n",
        "fdiv=x//z\n",
        "fdiv\n"
      ]
    },
    {
      "cell_type": "code",
      "execution_count": null,
      "metadata": {
        "colab": {
          "base_uri": "https://localhost:8080/"
        },
        "execution": {
          "iopub.execute_input": "2021-12-13T11:18:23.768814Z",
          "iopub.status.busy": "2021-12-13T11:18:23.768469Z",
          "iopub.status.idle": "2021-12-13T11:18:23.774541Z",
          "shell.execute_reply": "2021-12-13T11:18:23.773825Z",
          "shell.execute_reply.started": "2021-12-13T11:18:23.768775Z"
        },
        "id": "prGaXfI2rP4R",
        "outputId": "03be0144-f3d4-47b5-a894-d95a3a5ccfd2"
      },
      "outputs": [
        {
          "output_type": "execute_result",
          "data": {
            "text/plain": [
              "7.0"
            ]
          },
          "metadata": {},
          "execution_count": 17
        }
      ],
      "source": [
        "# Modulo(gives remainder) on x and z\n",
        "mod=x%z\n",
        "mod"
      ]
    },
    {
      "cell_type": "markdown",
      "metadata": {
        "id": "BqiZFRnxrP4R"
      },
      "source": [
        "# **`Comparison Operators`**"
      ]
    },
    {
      "cell_type": "code",
      "execution_count": null,
      "metadata": {
        "execution": {
          "iopub.execute_input": "2021-12-13T11:18:53.671899Z",
          "iopub.status.busy": "2021-12-13T11:18:53.671588Z",
          "iopub.status.idle": "2021-12-13T11:18:53.677758Z",
          "shell.execute_reply": "2021-12-13T11:18:53.676944Z",
          "shell.execute_reply.started": "2021-12-13T11:18:53.671852Z"
        },
        "id": "cZTjTlksrP4S"
      },
      "outputs": [],
      "source": [
        "# comapre and see if x is less then z\n",
        "# can use '<' symbol\n",
        "\n"
      ]
    },
    {
      "cell_type": "code",
      "execution_count": null,
      "metadata": {
        "colab": {
          "base_uri": "https://localhost:8080/"
        },
        "execution": {
          "iopub.execute_input": "2021-12-13T11:18:56.585807Z",
          "iopub.status.busy": "2021-12-13T11:18:56.585406Z",
          "iopub.status.idle": "2021-12-13T11:18:56.591392Z",
          "shell.execute_reply": "2021-12-13T11:18:56.590675Z",
          "shell.execute_reply.started": "2021-12-13T11:18:56.585775Z"
        },
        "id": "ugLB8T4zrP4S",
        "outputId": "5507a34f-8cef-4748-dd11-15c7e1e5a6ab"
      },
      "outputs": [
        {
          "output_type": "execute_result",
          "data": {
            "text/plain": [
              "True"
            ]
          },
          "metadata": {},
          "execution_count": 19
        }
      ],
      "source": [
        "# check the type of above comaprison where it says comapre and see if x is less then z\n",
        "x<z"
      ]
    },
    {
      "cell_type": "markdown",
      "metadata": {
        "id": "JvyfWt8NrP4S"
      },
      "source": [
        "* `Bool` => takes two values, either `True` or `False`"
      ]
    },
    {
      "cell_type": "code",
      "execution_count": null,
      "metadata": {
        "colab": {
          "base_uri": "https://localhost:8080/"
        },
        "execution": {
          "iopub.execute_input": "2021-12-13T11:20:21.121906Z",
          "iopub.status.busy": "2021-12-13T11:20:21.121593Z",
          "iopub.status.idle": "2021-12-13T11:20:21.128235Z",
          "shell.execute_reply": "2021-12-13T11:20:21.127415Z",
          "shell.execute_reply.started": "2021-12-13T11:20:21.121858Z"
        },
        "id": "qrLXc7h8rP4S",
        "outputId": "3579a6ca-7461-4a14-cad4-b286bd0daad2"
      },
      "outputs": [
        {
          "output_type": "execute_result",
          "data": {
            "text/plain": [
              "True"
            ]
          },
          "metadata": {},
          "execution_count": 20
        }
      ],
      "source": [
        "# compare and see if x is less then or equall to z\n",
        "# can use '<=' symbol\n",
        "x<=z"
      ]
    },
    {
      "cell_type": "code",
      "execution_count": null,
      "metadata": {
        "colab": {
          "base_uri": "https://localhost:8080/"
        },
        "execution": {
          "iopub.execute_input": "2021-12-13T11:21:03.964669Z",
          "iopub.status.busy": "2021-12-13T11:21:03.964122Z",
          "iopub.status.idle": "2021-12-13T11:21:03.970529Z",
          "shell.execute_reply": "2021-12-13T11:21:03.969911Z",
          "shell.execute_reply.started": "2021-12-13T11:21:03.964617Z"
        },
        "id": "QITa8mAorP4S",
        "outputId": "54d5c4d8-ce03-44e4-aba2-cb4182ff04c9"
      },
      "outputs": [
        {
          "output_type": "execute_result",
          "data": {
            "text/plain": [
              "False"
            ]
          },
          "metadata": {},
          "execution_count": 21
        }
      ],
      "source": [
        "# comapre and see if x equall to z\n",
        "# can use '==' symbol\n",
        "x==z\n"
      ]
    },
    {
      "cell_type": "code",
      "execution_count": null,
      "metadata": {
        "colab": {
          "base_uri": "https://localhost:8080/"
        },
        "execution": {
          "iopub.execute_input": "2021-12-13T11:21:17.56085Z",
          "iopub.status.busy": "2021-12-13T11:21:17.560326Z",
          "iopub.status.idle": "2021-12-13T11:21:17.566991Z",
          "shell.execute_reply": "2021-12-13T11:21:17.566308Z",
          "shell.execute_reply.started": "2021-12-13T11:21:17.560801Z"
        },
        "id": "to09wf4lrP4S",
        "outputId": "27356e41-e700-4478-959b-d8e512aaff32"
      },
      "outputs": [
        {
          "output_type": "execute_result",
          "data": {
            "text/plain": [
              "False"
            ]
          },
          "metadata": {},
          "execution_count": 22
        }
      ],
      "source": [
        "# comapre and see if x is greater than z\n",
        "# can use '>' symbol\n",
        "x>z"
      ]
    },
    {
      "cell_type": "code",
      "execution_count": null,
      "metadata": {
        "colab": {
          "base_uri": "https://localhost:8080/"
        },
        "execution": {
          "iopub.status.busy": "2021-12-11T05:18:03.366407Z",
          "iopub.status.idle": "2021-12-11T05:18:03.366829Z",
          "shell.execute_reply": "2021-12-11T05:18:03.366687Z",
          "shell.execute_reply.started": "2021-12-11T05:18:03.36667Z"
        },
        "id": "3XjJEvQmrP4S",
        "outputId": "408ca5e9-ceed-4f6e-bf06-a788ba713b56"
      },
      "outputs": [
        {
          "output_type": "execute_result",
          "data": {
            "text/plain": [
              "False"
            ]
          },
          "metadata": {},
          "execution_count": 23
        }
      ],
      "source": [
        "# comapre and see if x is greater than or equall to z\n",
        "# can use '>=' symbol\n",
        "x>=z"
      ]
    },
    {
      "cell_type": "code",
      "execution_count": null,
      "metadata": {
        "colab": {
          "base_uri": "https://localhost:8080/"
        },
        "execution": {
          "iopub.execute_input": "2021-12-13T11:21:27.087849Z",
          "iopub.status.busy": "2021-12-13T11:21:27.087572Z",
          "iopub.status.idle": "2021-12-13T11:21:27.094348Z",
          "shell.execute_reply": "2021-12-13T11:21:27.093707Z",
          "shell.execute_reply.started": "2021-12-13T11:21:27.087821Z"
        },
        "id": "U3R4NtLUrP4S",
        "outputId": "ea175c5b-fe9f-486c-ae9a-0f3f511330c4"
      },
      "outputs": [
        {
          "output_type": "execute_result",
          "data": {
            "text/plain": [
              "True"
            ]
          },
          "metadata": {},
          "execution_count": 24
        }
      ],
      "source": [
        "# comapre and see if x is Not equall to z\n",
        "# can use '!=' symbol\n",
        "x!=z\n"
      ]
    },
    {
      "cell_type": "markdown",
      "metadata": {
        "id": "i1cSXmgbrP4T"
      },
      "source": [
        "# **`Logical Operators`**"
      ]
    },
    {
      "cell_type": "code",
      "execution_count": null,
      "metadata": {
        "colab": {
          "base_uri": "https://localhost:8080/"
        },
        "execution": {
          "iopub.execute_input": "2021-12-13T11:22:13.637837Z",
          "iopub.status.busy": "2021-12-13T11:22:13.637267Z",
          "iopub.status.idle": "2021-12-13T11:22:13.644724Z",
          "shell.execute_reply": "2021-12-13T11:22:13.643893Z",
          "shell.execute_reply.started": "2021-12-13T11:22:13.637786Z"
        },
        "id": "qrf5nOLerP4T",
        "outputId": "3c921fd0-9918-49b1-8b3f-4d97fe9f607f"
      },
      "outputs": [
        {
          "output_type": "execute_result",
          "data": {
            "text/plain": [
              "True"
            ]
          },
          "metadata": {},
          "execution_count": 25
        }
      ],
      "source": [
        "# compare if 108 is equall to 108, 21 is equall to 21 using logical and\n",
        "# equall to => '=='\n",
        "# logical and => and\n",
        "c1=(108==108)and (108==108)\n",
        "c1\n",
        "c2=(21==21)and (21==21)\n",
        "c2\n",
        "# in and both condition must be True to get a True"
      ]
    },
    {
      "cell_type": "code",
      "execution_count": null,
      "metadata": {
        "colab": {
          "base_uri": "https://localhost:8080/"
        },
        "execution": {
          "iopub.execute_input": "2021-12-13T11:22:24.56808Z",
          "iopub.status.busy": "2021-12-13T11:22:24.567356Z",
          "iopub.status.idle": "2021-12-13T11:22:24.576075Z",
          "shell.execute_reply": "2021-12-13T11:22:24.574969Z",
          "shell.execute_reply.started": "2021-12-13T11:22:24.56804Z"
        },
        "id": "Zp51tX7NrP4T",
        "outputId": "c818e059-4183-49c0-a191-90b210e3d571"
      },
      "outputs": [
        {
          "output_type": "execute_result",
          "data": {
            "text/plain": [
              "False"
            ]
          },
          "metadata": {},
          "execution_count": 26
        }
      ],
      "source": [
        "# how above condition can give False as output show all those conditions\n",
        "c3=(108!=108) and (108!=108)\n",
        "c3\n",
        "c4=(108!=108)and(108==108)\n",
        "c4\n",
        "c5=(21!=21) and (21!=21)\n",
        "c5\n",
        "c6=(21!=21)and(21==21)\n",
        "c6"
      ]
    },
    {
      "cell_type": "code",
      "execution_count": null,
      "metadata": {
        "colab": {
          "base_uri": "https://localhost:8080/"
        },
        "execution": {
          "iopub.execute_input": "2021-12-13T11:22:39.576213Z",
          "iopub.status.busy": "2021-12-13T11:22:39.575636Z",
          "iopub.status.idle": "2021-12-13T11:22:39.58328Z",
          "shell.execute_reply": "2021-12-13T11:22:39.582673Z",
          "shell.execute_reply.started": "2021-12-13T11:22:39.576179Z"
        },
        "id": "TRMHLAHkrP4T",
        "outputId": "1ecd0507-e357-4390-8b41-11cba19f55f7"
      },
      "outputs": [
        {
          "output_type": "execute_result",
          "data": {
            "text/plain": [
              "True"
            ]
          },
          "metadata": {},
          "execution_count": 27
        }
      ],
      "source": [
        "# compare if 108 is equall to 108, 21 is equall to 11 using logical or\n",
        "# equall to => '=='\n",
        "# logical or => or\n",
        "(108 == 108) or (21 == 11) or (108 <= 11)\n",
        "\n",
        "# in or Only one condition need to be True to get a True"
      ]
    },
    {
      "cell_type": "code",
      "execution_count": null,
      "metadata": {
        "colab": {
          "base_uri": "https://localhost:8080/"
        },
        "execution": {
          "iopub.execute_input": "2021-12-13T11:22:58.998022Z",
          "iopub.status.busy": "2021-12-13T11:22:58.997422Z",
          "iopub.status.idle": "2021-12-13T11:22:59.004662Z",
          "shell.execute_reply": "2021-12-13T11:22:59.003884Z",
          "shell.execute_reply.started": "2021-12-13T11:22:58.997978Z"
        },
        "id": "QQRfWOkzrP4T",
        "outputId": "27e346a1-4341-40a6-b20f-7bd75b13a517"
      },
      "outputs": [
        {
          "output_type": "execute_result",
          "data": {
            "text/plain": [
              "True"
            ]
          },
          "metadata": {},
          "execution_count": 28
        }
      ],
      "source": [
        "# this is for you to understand it\n",
        "(108 == 108) or (21 == 11) or (108 <= 11)"
      ]
    },
    {
      "cell_type": "code",
      "execution_count": null,
      "metadata": {
        "id": "phHxofIF0Orz"
      },
      "outputs": [],
      "source": []
    },
    {
      "cell_type": "markdown",
      "metadata": {
        "id": "r5LWKR-irP4T"
      },
      "source": [
        "# **`if`--- `else`** => to handle single condition <br>\n",
        "# **`if`--- `elif`--- `else`** => to handle Multiple condition"
      ]
    },
    {
      "cell_type": "markdown",
      "metadata": {
        "id": "_7lo_XpYrP4U"
      },
      "source": [
        "`Observe in Python code:`\n",
        "* `if` => statement in python\n",
        "* `else` => statement in python\n",
        "* `:` => colon => denotes start of if block i.e. any line written after colon belong to if condition\n",
        "* `....` => see then as indentation i.e. 4 spaces => indentation indicates all code belong to only if and then another indentation indicates code for only else block"
      ]
    },
    {
      "cell_type": "code",
      "execution_count": null,
      "metadata": {
        "colab": {
          "base_uri": "https://localhost:8080/"
        },
        "execution": {
          "iopub.execute_input": "2021-12-13T12:04:09.255152Z",
          "iopub.status.busy": "2021-12-13T12:04:09.254359Z",
          "iopub.status.idle": "2021-12-13T12:04:09.301228Z",
          "shell.execute_reply": "2021-12-13T12:04:09.300137Z",
          "shell.execute_reply.started": "2021-12-13T12:04:09.254985Z"
        },
        "id": "e2SpODuorP4U",
        "outputId": "dd40be01-4c73-4a03-8ccb-95981b500796"
      },
      "outputs": [
        {
          "output_type": "execute_result",
          "data": {
            "text/plain": [
              "True"
            ]
          },
          "metadata": {},
          "execution_count": 29
        }
      ],
      "source": [
        "# make variable with value as : money 100000\n",
        "money= 100000\n",
        "\n",
        "# see output of money > 2000\n",
        "money>2000"
      ]
    },
    {
      "cell_type": "code",
      "execution_count": null,
      "metadata": {
        "colab": {
          "base_uri": "https://localhost:8080/"
        },
        "execution": {
          "iopub.execute_input": "2021-12-13T12:04:41.020917Z",
          "iopub.status.busy": "2021-12-13T12:04:41.020562Z",
          "iopub.status.idle": "2021-12-13T12:04:41.027788Z",
          "shell.execute_reply": "2021-12-13T12:04:41.026428Z",
          "shell.execute_reply.started": "2021-12-13T12:04:41.020881Z"
        },
        "id": "8rLKbxCqrP4U",
        "outputId": "e3d56af5-05e8-457b-d93c-c54ef2937718"
      },
      "outputs": [
        {
          "output_type": "stream",
          "name": "stdout",
          "text": [
            "data science course free\n"
          ]
        }
      ],
      "source": [
        "# assign money variable value of 10000\n",
        "money=10000\n",
        "##### say you have this much ammount in your account\n",
        "\n",
        "# start of if condition\n",
        "if money>1000:\n",
        "  print(\"data science course free\")\n",
        "elif money<1000:\n",
        "  print(\"you have less money then 1000\")\n",
        "else:\n",
        "  print(\"will work for now\")\n",
        "# if money is greater then 1000 which is data science course free\n",
        "# if money > 1000 is false i.e. you have less money then 1000 in your account then else will work for now only if is working\n"
      ]
    },
    {
      "cell_type": "code",
      "execution_count": null,
      "metadata": {
        "colab": {
          "base_uri": "https://localhost:8080/"
        },
        "execution": {
          "iopub.execute_input": "2021-12-13T12:12:40.145964Z",
          "iopub.status.busy": "2021-12-13T12:12:40.145355Z",
          "iopub.status.idle": "2021-12-13T12:12:45.469908Z",
          "shell.execute_reply": "2021-12-13T12:12:45.469259Z",
          "shell.execute_reply.started": "2021-12-13T12:12:40.145915Z"
        },
        "id": "UkSB0BDKrP4V",
        "outputId": "f0b25ea4-b895-4cc8-b87b-bec2c4830026"
      },
      "outputs": [
        {
          "output_type": "stream",
          "name": "stdout",
          "text": [
            "A grade\n"
          ]
        }
      ],
      "source": [
        "# take a test_score variable with 80 in it.\n",
        "test_score=80\n",
        "# if test_score greater then 80 then print A grade\n",
        "if test_score>60:\n",
        "  print(\"A grade\")\n",
        "elif test_score<80:\n",
        "  print(\"B grade\")\n",
        "else:\n",
        "  print(\"Nothing for you\")\n",
        "# elif test_score greater then 60 and less then 80 print B grade\n",
        "# else print Nothing for you"
      ]
    },
    {
      "cell_type": "code",
      "execution_count": null,
      "metadata": {
        "id": "i-7MV89F0Or0"
      },
      "outputs": [],
      "source": []
    },
    {
      "cell_type": "markdown",
      "metadata": {
        "id": "kwiSNsZ70Or0"
      },
      "source": [
        "# **`Python Loops`**"
      ]
    },
    {
      "cell_type": "code",
      "execution_count": null,
      "metadata": {
        "colab": {
          "base_uri": "https://localhost:8080/",
          "height": 36
        },
        "id": "UsOavUkNrP4X",
        "outputId": "9d9fe2c6-8d57-4b1a-af15-6315adc85a17"
      },
      "outputs": [
        {
          "output_type": "execute_result",
          "data": {
            "text/plain": [
              "'\\nfor iterating_variable in sequence:\\n    statement(s)\\n'"
            ],
            "application/vnd.google.colaboratory.intrinsic+json": {
              "type": "string"
            }
          },
          "metadata": {},
          "execution_count": 32
        }
      ],
      "source": [
        "\"\"\"\n",
        "for iterating_variable in sequence:\n",
        "    statement(s)\n",
        "\"\"\""
      ]
    },
    {
      "cell_type": "code",
      "execution_count": null,
      "metadata": {
        "colab": {
          "base_uri": "https://localhost:8080/"
        },
        "execution": {
          "iopub.execute_input": "2021-12-14T05:27:42.974824Z",
          "iopub.status.busy": "2021-12-14T05:27:42.973933Z",
          "iopub.status.idle": "2021-12-14T05:27:42.981157Z",
          "shell.execute_reply": "2021-12-14T05:27:42.980185Z",
          "shell.execute_reply.started": "2021-12-14T05:27:42.97478Z"
        },
        "id": "v3DtstO3rP4X",
        "outputId": "241bf0cb-40ca-456c-fb25-5f92bae15d66"
      },
      "outputs": [
        {
          "output_type": "stream",
          "name": "stdout",
          "text": [
            "0\n",
            "1\n",
            "2\n",
            "3\n",
            "4\n",
            "5\n",
            "6\n",
            "7\n",
            "8\n",
            "9\n"
          ]
        }
      ],
      "source": [
        "for iterating_variable in range(10):\n",
        "    print(iterating_variable)"
      ]
    },
    {
      "cell_type": "code",
      "execution_count": null,
      "metadata": {
        "colab": {
          "base_uri": "https://localhost:8080/"
        },
        "execution": {
          "iopub.execute_input": "2021-12-14T05:29:31.818786Z",
          "iopub.status.busy": "2021-12-14T05:29:31.818325Z",
          "iopub.status.idle": "2021-12-14T05:29:31.825965Z",
          "shell.execute_reply": "2021-12-14T05:29:31.82532Z",
          "shell.execute_reply.started": "2021-12-14T05:29:31.818752Z"
        },
        "id": "nD9f1mMwrP4X",
        "outputId": "29885b2a-1c9f-4fde-c5f0-946f1960a428"
      },
      "outputs": [
        {
          "output_type": "stream",
          "name": "stdout",
          "text": [
            "I love sports\n",
            "I love sports\n",
            "I love sports\n",
            "I love sports\n",
            "I love sports\n",
            "I love sports\n",
            "I love sports\n",
            "I love sports\n",
            "I love sports\n",
            "I love sports\n"
          ]
        }
      ],
      "source": [
        "# print 'I love sports' 10 times using for loop\n",
        "for i in range (10):\n",
        "  print(\"I love sports\")\n"
      ]
    },
    {
      "cell_type": "markdown",
      "metadata": {
        "id": "F10cQq2RrP4X"
      },
      "source": [
        "`10` => `stoping criteria` of, for loop"
      ]
    },
    {
      "cell_type": "markdown",
      "metadata": {
        "id": "sYmBZqXkrP4X"
      },
      "source": [
        "* `in` => keyword\n",
        "* `sequence` => on which to itterate\n",
        "* `:` => colon , start of for loop"
      ]
    },
    {
      "cell_type": "markdown",
      "metadata": {
        "id": "nR0WJpXwrP4X"
      },
      "source": [
        "`!=` = not equall to => `behaves as a stoping criteria`"
      ]
    },
    {
      "cell_type": "code",
      "execution_count": null,
      "metadata": {
        "colab": {
          "base_uri": "https://localhost:8080/",
          "height": 36
        },
        "execution": {
          "iopub.status.busy": "2021-12-11T05:18:11.230229Z",
          "iopub.status.idle": "2021-12-11T05:18:11.230505Z",
          "shell.execute_reply": "2021-12-11T05:18:11.230373Z",
          "shell.execute_reply.started": "2021-12-11T05:18:11.230358Z"
        },
        "id": "vYJsdLnerP4Y",
        "outputId": "2847af96-9510-4147-9a20-db31f07e4f2f"
      },
      "outputs": [
        {
          "output_type": "execute_result",
          "data": {
            "text/plain": [
              "'\\nwhile comparison:\\n    statements(s)\\n'"
            ],
            "application/vnd.google.colaboratory.intrinsic+json": {
              "type": "string"
            }
          },
          "metadata": {},
          "execution_count": 35
        }
      ],
      "source": [
        "# Syntax of while loop\n",
        "\"\"\"\n",
        "while comparison:\n",
        "    statements(s)\n",
        "\"\"\""
      ]
    },
    {
      "cell_type": "code",
      "execution_count": null,
      "metadata": {
        "colab": {
          "base_uri": "https://localhost:8080/"
        },
        "execution": {
          "iopub.execute_input": "2021-12-14T05:32:44.799916Z",
          "iopub.status.busy": "2021-12-14T05:32:44.799592Z",
          "iopub.status.idle": "2021-12-14T05:32:44.807523Z",
          "shell.execute_reply": "2021-12-14T05:32:44.806458Z",
          "shell.execute_reply.started": "2021-12-14T05:32:44.799882Z"
        },
        "id": "No1lV66XrP4Y",
        "outputId": "6016d3f5-174b-4c3d-bba2-dea1a93cf5e9"
      },
      "outputs": [
        {
          "output_type": "stream",
          "name": "stdout",
          "text": [
            "0\n",
            "1\n",
            "2\n",
            "3\n",
            "4\n",
            "5\n",
            "6\n",
            "7\n",
            "8\n",
            "9\n",
            "10\n"
          ]
        }
      ],
      "source": [
        "# while loop\n",
        "number =0\n",
        "while number <=10:\n",
        "  print(number)\n",
        "  number+=1\n",
        "# save 0 in variable number\n",
        "\n",
        "# print till 10 using while loop\n"
      ]
    },
    {
      "cell_type": "markdown",
      "metadata": {
        "id": "9oFT7qEjrP4Y"
      },
      "source": [
        "* Initialized variable `number = 0` and then increment it's value in each iteration\n",
        "* Loop will only continue to run only if value is less than 10"
      ]
    },
    {
      "cell_type": "markdown",
      "metadata": {
        "id": "ZFHHxSeqrP4Z"
      },
      "source": [
        "# **`Type of Jump Statements`** <br>\n",
        "`Break Statement`\n",
        "`Continue Statement`"
      ]
    },
    {
      "cell_type": "markdown",
      "metadata": {
        "id": "2TlMjfJVrP4a"
      },
      "source": [
        "# **`Break Statement`**\n"
      ]
    },
    {
      "cell_type": "code",
      "execution_count": null,
      "metadata": {
        "colab": {
          "base_uri": "https://localhost:8080/"
        },
        "execution": {
          "iopub.execute_input": "2021-12-14T09:25:34.60943Z",
          "iopub.status.busy": "2021-12-14T09:25:34.609121Z",
          "iopub.status.idle": "2021-12-14T09:25:34.617876Z",
          "shell.execute_reply": "2021-12-14T09:25:34.616894Z",
          "shell.execute_reply.started": "2021-12-14T09:25:34.609398Z"
        },
        "id": "9E-BFzqUrP4a",
        "outputId": "1f9cd786-b722-4983-b089-18c244a28635"
      },
      "outputs": [
        {
          "output_type": "stream",
          "name": "stdout",
          "text": [
            "the number is 0\n",
            "the number is 1\n",
            "the number is 2\n",
            "the number is 3\n",
            "the number is 4\n",
            "the number is 5\n"
          ]
        }
      ],
      "source": [
        "# example that uses break statement in a for loop\n",
        "for number in range(10):\n",
        "  print(\"the number is\",number)\n",
        "  if number==5:\n",
        "    break\n",
        "# take range(10) and print 'The number is' + value\n",
        "# break when num equals 5\n"
      ]
    },
    {
      "cell_type": "markdown",
      "metadata": {
        "id": "oPN-KW8ErP4a"
      },
      "source": [
        "# **`Continue Statement`**\n"
      ]
    },
    {
      "cell_type": "code",
      "execution_count": null,
      "metadata": {
        "colab": {
          "base_uri": "https://localhost:8080/"
        },
        "execution": {
          "iopub.execute_input": "2021-12-14T06:14:44.160916Z",
          "iopub.status.busy": "2021-12-14T06:14:44.160579Z",
          "iopub.status.idle": "2021-12-14T06:14:44.169578Z",
          "shell.execute_reply": "2021-12-14T06:14:44.168622Z",
          "shell.execute_reply.started": "2021-12-14T06:14:44.160884Z"
        },
        "id": "I7RGHGcDrP4a",
        "outputId": "68e32cb1-11ca-4ace-b330-2a0ab11fbf9f"
      },
      "outputs": [
        {
          "output_type": "stream",
          "name": "stdout",
          "text": [
            "the number is 0\n",
            "the number is 1\n",
            "the number is 2\n",
            "the number is 3\n",
            "the number is 4\n",
            "the number is 6\n",
            "the number is 7\n",
            "the number is 8\n",
            "the number is 9\n"
          ]
        }
      ],
      "source": [
        "# Using same `for loop program` as in Break Statement section above\n",
        "# Use a continue statement rather than a break statement\n",
        "for number in range(10):\n",
        "   if number ==5:\n",
        "     continue\n",
        "   print(\"the number is\",number)\n",
        "\n",
        "# take range(10) and print 'The number is' + value\n",
        "# continue when num equals 5\n"
      ]
    },
    {
      "cell_type": "code",
      "execution_count": null,
      "metadata": {
        "id": "mRaAlMGp0Or2"
      },
      "outputs": [],
      "source": []
    },
    {
      "cell_type": "markdown",
      "metadata": {
        "id": "PMmen0JyrP4r"
      },
      "source": [
        "# **`String Manipulation`**"
      ]
    },
    {
      "cell_type": "code",
      "execution_count": null,
      "metadata": {
        "id": "8J1dpy6rrP4r"
      },
      "outputs": [],
      "source": [
        "string_ = '' or \"\" or \"\"\" \"\"\""
      ]
    },
    {
      "cell_type": "code",
      "execution_count": null,
      "metadata": {
        "execution": {
          "iopub.execute_input": "2021-12-13T11:01:34.238451Z",
          "iopub.status.busy": "2021-12-13T11:01:34.238169Z",
          "iopub.status.idle": "2021-12-13T11:01:34.244158Z",
          "shell.execute_reply": "2021-12-13T11:01:34.243186Z",
          "shell.execute_reply.started": "2021-12-13T11:01:34.238418Z"
        },
        "id": "P4TiJEQCrP4s"
      },
      "outputs": [],
      "source": [
        "# define a string variable with \"We are creating next generation data science eco-system at CollegeRanker\"\n",
        "str=\"We are creating next generation data science eco-system at CollegeRanker\"\n"
      ]
    },
    {
      "cell_type": "code",
      "execution_count": null,
      "metadata": {
        "colab": {
          "base_uri": "https://localhost:8080/"
        },
        "execution": {
          "iopub.execute_input": "2021-12-13T11:01:34.958307Z",
          "iopub.status.busy": "2021-12-13T11:01:34.957656Z",
          "iopub.status.idle": "2021-12-13T11:01:34.963401Z",
          "shell.execute_reply": "2021-12-13T11:01:34.96252Z",
          "shell.execute_reply.started": "2021-12-13T11:01:34.958266Z"
        },
        "id": "Ujfo-CHZrP4s",
        "outputId": "f453745d-e67a-4441-d90a-38942770b295"
      },
      "outputs": [
        {
          "output_type": "stream",
          "name": "stdout",
          "text": [
            "72\n"
          ]
        }
      ],
      "source": [
        "# Find length of string including spaces\n",
        "print(len(str))\n"
      ]
    },
    {
      "cell_type": "code",
      "execution_count": null,
      "metadata": {
        "colab": {
          "base_uri": "https://localhost:8080/"
        },
        "execution": {
          "iopub.execute_input": "2021-12-13T11:01:42.029037Z",
          "iopub.status.busy": "2021-12-13T11:01:42.028477Z",
          "iopub.status.idle": "2021-12-13T11:01:42.035886Z",
          "shell.execute_reply": "2021-12-13T11:01:42.035025Z",
          "shell.execute_reply.started": "2021-12-13T11:01:42.02899Z"
        },
        "id": "huRY2kW4rP4s",
        "outputId": "3a2a51da-9470-4d66-8cef-bd4bcd4832f2"
      },
      "outputs": [
        {
          "output_type": "stream",
          "name": "stdout",
          "text": [
            "W\n"
          ]
        }
      ],
      "source": [
        "# Access characters in a string with indexing i.e string[0]\n",
        "print(str[0])\n"
      ]
    },
    {
      "cell_type": "code",
      "execution_count": null,
      "metadata": {
        "colab": {
          "base_uri": "https://localhost:8080/"
        },
        "execution": {
          "iopub.execute_input": "2021-12-13T11:01:54.758166Z",
          "iopub.status.busy": "2021-12-13T11:01:54.757886Z",
          "iopub.status.idle": "2021-12-13T11:01:54.76332Z",
          "shell.execute_reply": "2021-12-13T11:01:54.762662Z",
          "shell.execute_reply.started": "2021-12-13T11:01:54.758136Z"
        },
        "id": "ynPqdSYdrP4s",
        "outputId": "521703d7-9e6a-4b85-82e2-118d3d4a7b38"
      },
      "outputs": [
        {
          "output_type": "stream",
          "name": "stdout",
          "text": [
            "r\n"
          ]
        }
      ],
      "source": [
        "# Access characters with negative indexing i.e string[-1]\n",
        "print(str[-1])\n"
      ]
    },
    {
      "cell_type": "markdown",
      "metadata": {
        "id": "O9VaefTGrP4s"
      },
      "source": [
        "# String Slicing"
      ]
    },
    {
      "cell_type": "code",
      "execution_count": null,
      "metadata": {
        "colab": {
          "base_uri": "https://localhost:8080/"
        },
        "execution": {
          "iopub.execute_input": "2021-12-13T11:02:05.078251Z",
          "iopub.status.busy": "2021-12-13T11:02:05.077467Z",
          "iopub.status.idle": "2021-12-13T11:02:05.08393Z",
          "shell.execute_reply": "2021-12-13T11:02:05.083137Z",
          "shell.execute_reply.started": "2021-12-13T11:02:05.078214Z"
        },
        "id": "ry8spVYHrP4s",
        "outputId": "c0d696f8-000e-434d-d370-230cf6e8086e"
      },
      "outputs": [
        {
          "output_type": "stream",
          "name": "stdout",
          "text": [
            "We are\n"
          ]
        }
      ],
      "source": [
        "# select string from first to 6th element i.e string[:6]\n",
        "print(str[:6])\n",
        "\n"
      ]
    },
    {
      "cell_type": "code",
      "execution_count": null,
      "metadata": {
        "colab": {
          "base_uri": "https://localhost:8080/"
        },
        "execution": {
          "iopub.execute_input": "2021-12-13T11:02:17.092026Z",
          "iopub.status.busy": "2021-12-13T11:02:17.091514Z",
          "iopub.status.idle": "2021-12-13T11:02:17.098478Z",
          "shell.execute_reply": "2021-12-13T11:02:17.097041Z",
          "shell.execute_reply.started": "2021-12-13T11:02:17.091993Z"
        },
        "id": "9yyS6grLrP4s",
        "outputId": "239e6487-2a05-4273-d71f-91f8db0f6ebe"
      },
      "outputs": [
        {
          "output_type": "stream",
          "name": "stdout",
          "text": [
            "creating next generation data science eco-system at Col\n"
          ]
        }
      ],
      "source": [
        "# select string from 7th to negative 10th element i.e string[7:-10]\n",
        "print(str[7:-10])\n",
        "\n"
      ]
    },
    {
      "cell_type": "markdown",
      "metadata": {
        "id": "IE-m76lwrP4s"
      },
      "source": [
        "\n",
        "\n",
        "```\n",
        "# This is formatted as code\n",
        "```\n",
        "\n",
        "Count of a particular `character` in a string\n",
        "\n",
        "> Indented block\n",
        "\n"
      ]
    },
    {
      "cell_type": "code",
      "execution_count": null,
      "metadata": {
        "execution": {
          "iopub.execute_input": "2021-12-13T11:02:32.813513Z",
          "iopub.status.busy": "2021-12-13T11:02:32.813226Z",
          "iopub.status.idle": "2021-12-13T11:02:32.820308Z",
          "shell.execute_reply": "2021-12-13T11:02:32.819443Z",
          "shell.execute_reply.started": "2021-12-13T11:02:32.813481Z"
        },
        "id": "036-jd2TrP4s",
        "colab": {
          "base_uri": "https://localhost:8080/"
        },
        "outputId": "7182e8a7-b135-462b-8bb7-afdd3c1fd8b1"
      },
      "outputs": [
        {
          "output_type": "stream",
          "name": "stdout",
          "text": [
            "The character 'e' appears 13 times in the string.\n"
          ]
        }
      ],
      "source": [
        "# Input string\n",
        "str=\"We are creating next generation data science eco-system at CollegeRanker\"\n",
        "\n",
        "# Character to count\n",
        "character = 'e'\n",
        "\n",
        "# Use the count() method to count occurrences of the character\n",
        "count = str.count(character)\n",
        "\n",
        "# Print the count\n",
        "print(f\"The character '{character}' appears {count} times in the string.\")\n"
      ]
    },
    {
      "cell_type": "markdown",
      "metadata": {
        "id": "6BhlvAFmrP4s"
      },
      "source": [
        "Count of a particular `sub-string` in a string"
      ]
    },
    {
      "cell_type": "code",
      "execution_count": null,
      "metadata": {
        "execution": {
          "iopub.execute_input": "2021-12-13T11:02:46.68983Z",
          "iopub.status.busy": "2021-12-13T11:02:46.689548Z",
          "iopub.status.idle": "2021-12-13T11:02:46.696782Z",
          "shell.execute_reply": "2021-12-13T11:02:46.69582Z",
          "shell.execute_reply.started": "2021-12-13T11:02:46.6898Z"
        },
        "id": "pzaxuLCarP4s",
        "colab": {
          "base_uri": "https://localhost:8080/"
        },
        "outputId": "868da8d4-2be1-443c-d6f9-0cb560cd60b2"
      },
      "outputs": [
        {
          "output_type": "stream",
          "name": "stdout",
          "text": [
            "The substring 'data science' appears 1 times in the string.\n"
          ]
        }
      ],
      "source": [
        "# Input string\n",
        "str=\"We are creating next generation data science eco-system at CollegeRanker\"\n",
        "\n",
        "# Substring to count\n",
        "substring = \"data science\"\n",
        "\n",
        "# Use the count() method to count occurrences of the substring\n",
        "count = str.count(substring)\n",
        "\n",
        "# Print the count\n",
        "print(f\"The substring '{substring}' appears {count} times in the string.\")\n"
      ]
    },
    {
      "cell_type": "markdown",
      "metadata": {
        "id": "gbyWCeAwrP4s"
      },
      "source": [
        "Find a substring in string using `find` and `index` function"
      ]
    },
    {
      "cell_type": "code",
      "execution_count": null,
      "metadata": {
        "execution": {
          "iopub.execute_input": "2021-12-13T11:03:44.010815Z",
          "iopub.status.busy": "2021-12-13T11:03:44.010507Z",
          "iopub.status.idle": "2021-12-13T11:03:44.017299Z",
          "shell.execute_reply": "2021-12-13T11:03:44.016185Z",
          "shell.execute_reply.started": "2021-12-13T11:03:44.010781Z"
        },
        "id": "tfFcaCXxrP4t",
        "colab": {
          "base_uri": "https://localhost:8080/"
        },
        "outputId": "ffefd2a4-1d9e-467f-ea50-6833448fc1b5"
      },
      "outputs": [
        {
          "output_type": "stream",
          "name": "stdout",
          "text": [
            "21\n",
            "-1\n",
            "55\n",
            "substring not found\n"
          ]
        }
      ],
      "source": [
        "# .find() => if present it will return starting index, not found then it will return -1\n",
        "str=\"We are creating next generation data science eco-system at CollegeRanker\"\n",
        "index = str.find(\"generation\")\n",
        "print(index)\n",
        "index1 = str.find(\"Python\")\n",
        "print(index1)  # Output: -1\n",
        "\n",
        "# .index() => if present it will return starting index, not found then it will give error\n",
        "\n",
        "index2 = str.index(\" at\")\n",
        "print(index2)  # Output: 7\n",
        "try:\n",
        "    index =str.index(\"Python\")\n",
        "except ValueError as e:\n",
        "    print(e)  # Output: substring not found in string\n",
        "\n"
      ]
    },
    {
      "cell_type": "code",
      "execution_count": null,
      "metadata": {
        "execution": {
          "iopub.execute_input": "2021-12-13T11:04:48.605999Z",
          "iopub.status.busy": "2021-12-13T11:04:48.605575Z",
          "iopub.status.idle": "2021-12-13T11:04:48.611854Z",
          "shell.execute_reply": "2021-12-13T11:04:48.611143Z",
          "shell.execute_reply.started": "2021-12-13T11:04:48.605962Z"
        },
        "id": "QK6TfpWyrP4t",
        "colab": {
          "base_uri": "https://localhost:8080/"
        },
        "outputId": "d0a7a69f-49cf-4bc8-cc60-cdb7eaf5dd10"
      },
      "outputs": [
        {
          "output_type": "stream",
          "name": "stdout",
          "text": [
            "True\n",
            "False\n"
          ]
        }
      ],
      "source": [
        "### Checking whether string `startswith` or `endswith` a particular substring or not\n",
        "\n",
        "str=\"We are creating next generation data science eco-system at CollegeRanker\"\n",
        "starts_with_we = str.startswith(\"We\")\n",
        "print(starts_with_we)  # Output: True\n",
        "starts_with_world = str.startswith(\"World\")\n",
        "print(starts_with_world)  # Output: False\n",
        "\n",
        "\n"
      ]
    },
    {
      "cell_type": "code",
      "execution_count": null,
      "metadata": {
        "execution": {
          "iopub.execute_input": "2021-12-13T11:05:06.532097Z",
          "iopub.status.busy": "2021-12-13T11:05:06.531667Z",
          "iopub.status.idle": "2021-12-13T11:05:06.53704Z",
          "shell.execute_reply": "2021-12-13T11:05:06.536136Z",
          "shell.execute_reply.started": "2021-12-13T11:05:06.532065Z"
        },
        "id": "KEUqKWYqrP4t",
        "colab": {
          "base_uri": "https://localhost:8080/"
        },
        "outputId": "f9abc971-9b88-475e-e837-e3ddfa5fef13"
      },
      "outputs": [
        {
          "output_type": "stream",
          "name": "stdout",
          "text": [
            "True\n",
            "False\n"
          ]
        }
      ],
      "source": [
        "\n",
        "ends_with_collegeranker = str.endswith(\"CollegeRanker\")\n",
        "print(ends_with_collegeranker)  # Output: True\n",
        "\n",
        "ends_with_hello = sentence.endswith(\"Hello\")\n",
        "print(ends_with_hello)  # Output: False\n",
        "\n"
      ]
    },
    {
      "cell_type": "code",
      "execution_count": null,
      "metadata": {
        "execution": {
          "iopub.execute_input": "2021-12-13T11:05:29.695055Z",
          "iopub.status.busy": "2021-12-13T11:05:29.694529Z",
          "iopub.status.idle": "2021-12-13T11:05:29.700213Z",
          "shell.execute_reply": "2021-12-13T11:05:29.699432Z",
          "shell.execute_reply.started": "2021-12-13T11:05:29.695023Z"
        },
        "id": "LpEf2Vi_rP4t",
        "colab": {
          "base_uri": "https://localhost:8080/",
          "height": 36
        },
        "outputId": "c3d732c4-3553-4d82-d53f-6c3f1b95ed08"
      },
      "outputs": [
        {
          "output_type": "execute_result",
          "data": {
            "text/plain": [
              "'WE ARE CREATING NEXT GENERATION DATA SCIENCE ECO-SYSTEM AT COLLEGERANKER'"
            ],
            "application/vnd.google.colaboratory.intrinsic+json": {
              "type": "string"
            }
          },
          "metadata": {},
          "execution_count": 81
        }
      ],
      "source": [
        "### Converting string to upper case ###\n",
        "str=\"We are creating next generation data science eco-system at CollegeRanker\"\n",
        "str.upper()\n",
        "\n"
      ]
    },
    {
      "cell_type": "code",
      "execution_count": null,
      "metadata": {
        "execution": {
          "iopub.execute_input": "2021-12-13T11:05:43.600499Z",
          "iopub.status.busy": "2021-12-13T11:05:43.599994Z",
          "iopub.status.idle": "2021-12-13T11:05:43.605902Z",
          "shell.execute_reply": "2021-12-13T11:05:43.604859Z",
          "shell.execute_reply.started": "2021-12-13T11:05:43.600462Z"
        },
        "id": "C-lc1BM5rP4t",
        "colab": {
          "base_uri": "https://localhost:8080/",
          "height": 36
        },
        "outputId": "b9467356-ba7c-40ec-8167-fa59d82a5ff2"
      },
      "outputs": [
        {
          "output_type": "execute_result",
          "data": {
            "text/plain": [
              "'We are creating next generation data science eco-system at collegeranker'"
            ],
            "application/vnd.google.colaboratory.intrinsic+json": {
              "type": "string"
            }
          },
          "metadata": {},
          "execution_count": 82
        }
      ],
      "source": [
        "### Converting only first character of string to upper case\n",
        "str.capitalize()\n"
      ]
    },
    {
      "cell_type": "code",
      "execution_count": null,
      "metadata": {
        "execution": {
          "iopub.execute_input": "2021-12-13T11:06:19.800912Z",
          "iopub.status.busy": "2021-12-13T11:06:19.800396Z",
          "iopub.status.idle": "2021-12-13T11:06:19.806627Z",
          "shell.execute_reply": "2021-12-13T11:06:19.805745Z",
          "shell.execute_reply.started": "2021-12-13T11:06:19.800858Z"
        },
        "id": "eUfso5gHrP4t",
        "colab": {
          "base_uri": "https://localhost:8080/"
        },
        "outputId": "95b09155-ae43-41c2-fe09-d31a6bf67a0f"
      },
      "outputs": [
        {
          "output_type": "execute_result",
          "data": {
            "text/plain": [
              "False"
            ]
          },
          "metadata": {},
          "execution_count": 96
        }
      ],
      "source": [
        "### Checking if string is in lower case or upper case\n",
        "str.islower()\n",
        "str.isupper()"
      ]
    },
    {
      "cell_type": "code",
      "execution_count": null,
      "metadata": {
        "execution": {
          "iopub.execute_input": "2021-12-13T11:07:14.639468Z",
          "iopub.status.busy": "2021-12-13T11:07:14.639007Z",
          "iopub.status.idle": "2021-12-13T11:07:14.645717Z",
          "shell.execute_reply": "2021-12-13T11:07:14.644712Z",
          "shell.execute_reply.started": "2021-12-13T11:07:14.639422Z"
        },
        "id": "4KJ8oYacrP4t",
        "colab": {
          "base_uri": "https://localhost:8080/"
        },
        "outputId": "ef522535-eca1-4db0-fab8-f680c013b162"
      },
      "outputs": [
        {
          "output_type": "execute_result",
          "data": {
            "text/plain": [
              "False"
            ]
          },
          "metadata": {},
          "execution_count": 86
        }
      ],
      "source": [
        "### Checking if string is digit, alpabetic, alpha-numeric\n",
        "\n",
        "s1=str.isdigit()\n",
        "s2=str.isalpha()\n",
        "s3=str.isalnum()\n",
        "s1\n",
        "s2\n",
        "s3"
      ]
    },
    {
      "cell_type": "code",
      "execution_count": null,
      "metadata": {
        "execution": {
          "iopub.execute_input": "2021-12-13T11:08:59.303427Z",
          "iopub.status.busy": "2021-12-13T11:08:59.302982Z",
          "iopub.status.idle": "2021-12-13T11:08:59.310259Z",
          "shell.execute_reply": "2021-12-13T11:08:59.309168Z",
          "shell.execute_reply.started": "2021-12-13T11:08:59.303392Z"
        },
        "id": "SGBdMJeurP4u"
      },
      "outputs": [],
      "source": [
        "# assign \"C++ is easy to learn\" to a new_str variable\n",
        "new_str=\"C++ is easy to learn\""
      ]
    },
    {
      "cell_type": "code",
      "execution_count": null,
      "metadata": {
        "execution": {
          "iopub.execute_input": "2021-12-13T11:09:12.005822Z",
          "iopub.status.busy": "2021-12-13T11:09:12.005323Z",
          "iopub.status.idle": "2021-12-13T11:09:12.012082Z",
          "shell.execute_reply": "2021-12-13T11:09:12.011148Z",
          "shell.execute_reply.started": "2021-12-13T11:09:12.005782Z"
        },
        "id": "o3IMBWfqrP4u",
        "colab": {
          "base_uri": "https://localhost:8080/"
        },
        "outputId": "4a56ee15-a2ed-4abc-c694-51caac36a64e"
      },
      "outputs": [
        {
          "output_type": "stream",
          "name": "stdout",
          "text": [
            "Python is easy to learn\n"
          ]
        }
      ],
      "source": [
        "### Replace C++ with Python\n",
        "print(new_str.replace(\"C++\",\"Python\"))\n"
      ]
    },
    {
      "cell_type": "code",
      "execution_count": null,
      "metadata": {
        "execution": {
          "iopub.execute_input": "2021-12-13T11:09:37.127736Z",
          "iopub.status.busy": "2021-12-13T11:09:37.127294Z",
          "iopub.status.idle": "2021-12-13T11:09:37.133848Z",
          "shell.execute_reply": "2021-12-13T11:09:37.133093Z",
          "shell.execute_reply.started": "2021-12-13T11:09:37.127695Z"
        },
        "id": "himKDrvcrP4u",
        "colab": {
          "base_uri": "https://localhost:8080/"
        },
        "outputId": "58cd1cd6-725c-446f-c42a-30b9505a8ca3"
      },
      "outputs": [
        {
          "output_type": "execute_result",
          "data": {
            "text/plain": [
              "['C++', 'is', 'easy', 'to', 'learn']"
            ]
          },
          "metadata": {},
          "execution_count": 94
        }
      ],
      "source": [
        "### Use Split function on new_str ###\n",
        "new_str.split()\n"
      ]
    },
    {
      "cell_type": "markdown",
      "metadata": {
        "execution": {
          "iopub.execute_input": "2021-12-13T11:09:45.285163Z",
          "iopub.status.busy": "2021-12-13T11:09:45.284668Z",
          "iopub.status.idle": "2021-12-13T11:09:45.291474Z",
          "shell.execute_reply": "2021-12-13T11:09:45.290548Z",
          "shell.execute_reply.started": "2021-12-13T11:09:45.285128Z"
        },
        "id": "cCDcaUzHrP4u",
        "outputId": "26c9046b-e3f3-41c5-ab4a-051bbf4bf5f5"
      },
      "source": [
        "# **`Python Functions`**"
      ]
    },
    {
      "cell_type": "code",
      "execution_count": null,
      "metadata": {
        "colab": {
          "base_uri": "https://localhost:8080/",
          "height": 36
        },
        "execution": {
          "iopub.execute_input": "2021-12-14T10:18:36.097257Z",
          "iopub.status.busy": "2021-12-14T10:18:36.096956Z",
          "iopub.status.idle": "2021-12-14T10:18:36.102958Z",
          "shell.execute_reply": "2021-12-14T10:18:36.102283Z",
          "shell.execute_reply.started": "2021-12-14T10:18:36.097225Z"
        },
        "id": "4jqkxfNdrP4z",
        "outputId": "6cfab363-41e0-432c-e11b-182517ae27a1"
      },
      "outputs": [
        {
          "output_type": "execute_result",
          "data": {
            "text/plain": [
              "'\\ndef function_name():\\n    stetement(s)\\n'"
            ],
            "application/vnd.google.colaboratory.intrinsic+json": {
              "type": "string"
            }
          },
          "metadata": {},
          "execution_count": 56
        }
      ],
      "source": [
        "\"\"\"\n",
        "def function_name():\n",
        "    stetement(s)\n",
        "\"\"\""
      ]
    },
    {
      "cell_type": "code",
      "execution_count": null,
      "metadata": {
        "execution": {
          "iopub.execute_input": "2021-12-14T10:41:22.778938Z",
          "iopub.status.busy": "2021-12-14T10:41:22.778217Z",
          "iopub.status.idle": "2021-12-14T10:41:22.783295Z",
          "shell.execute_reply": "2021-12-14T10:41:22.782386Z",
          "shell.execute_reply.started": "2021-12-14T10:41:22.778903Z"
        },
        "id": "L8OCfOyPrP4z"
      },
      "outputs": [],
      "source": [
        "# define a function with welcome_message(name) and body 'Welcome to Functions !!!'\n",
        "def welcome_message(name):\n",
        "    message = f\"Welcome, {name}! Welcome to Functions!!!\"\n",
        "    return message\n",
        "\n",
        "\n"
      ]
    },
    {
      "cell_type": "code",
      "execution_count": null,
      "metadata": {
        "execution": {
          "iopub.execute_input": "2021-12-14T10:41:28.898798Z",
          "iopub.status.busy": "2021-12-14T10:41:28.89826Z",
          "iopub.status.idle": "2021-12-14T10:41:28.902844Z",
          "shell.execute_reply": "2021-12-14T10:41:28.902223Z",
          "shell.execute_reply.started": "2021-12-14T10:41:28.898763Z"
        },
        "id": "asBr2ewErP4z",
        "colab": {
          "base_uri": "https://localhost:8080/"
        },
        "outputId": "60380503-175a-4e9e-d023-e8ab1dac61f0"
      },
      "outputs": [
        {
          "output_type": "stream",
          "name": "stdout",
          "text": [
            "Enter your name: Shreya\n",
            "Welcome, Shreya! Welcome to Functions!!!\n"
          ]
        }
      ],
      "source": [
        "# call a function with your name\n",
        "user_name = input(\"Enter your name: \")\n",
        "print(welcome_message(user_name))\n",
        "\n"
      ]
    },
    {
      "cell_type": "markdown",
      "metadata": {
        "id": "YKfp2X2irP4z"
      },
      "source": [
        "* `def` Keyword marking start of function\n",
        "* `function name` to uniquely identify function\n",
        "    * `function naming` follows same `rules of writing identifiers`\n",
        "* `parameters`(arguments) to pass values to a function => totally optional\n",
        "* `()` paranthesis\n",
        "* `colon (:)` start of function\n",
        "* `documentation string`(docstring) describe's what function does => totally optional\n",
        "* `return statement` returns a value from function => totally optional\n",
        "* inside colon is `function definition` it should always be present before function call or get an error"
      ]
    },
    {
      "cell_type": "code",
      "execution_count": null,
      "metadata": {
        "execution": {
          "iopub.execute_input": "2021-12-14T10:46:10.134296Z",
          "iopub.status.busy": "2021-12-14T10:46:10.133283Z",
          "iopub.status.idle": "2021-12-14T10:46:10.138594Z",
          "shell.execute_reply": "2021-12-14T10:46:10.137987Z",
          "shell.execute_reply.started": "2021-12-14T10:46:10.134236Z"
        },
        "id": "TbWL-gm-rP4z",
        "colab": {
          "base_uri": "https://localhost:8080/"
        },
        "outputId": "9c2a5f8c-b42c-47a9-e76c-4e0deee0455e"
      },
      "outputs": [
        {
          "output_type": "stream",
          "name": "stdout",
          "text": [
            "7\n"
          ]
        }
      ],
      "source": [
        "# Write a function to add two number which are as 3 and 4\n",
        "def addition(a,b):\n",
        "\n",
        "# in total variable store adition of 3 + 4\n",
        "\n",
        " total_variable=a+b\n",
        "# print total variable\n",
        " print(total_variable)\n",
        "\n",
        "addition(3,4)\n",
        "\n"
      ]
    },
    {
      "cell_type": "markdown",
      "metadata": {
        "id": "JzTJaFZirP41"
      },
      "source": [
        "# ***`Positional Arguments`***\n",
        "Most arguments are identified by their position in function call\n",
        "* Say `print(x,y)` will give different results from `print(y,x)`\n",
        "\n",
        "What ever sequence is given while defining a function values must be taken in that sequence only\n",
        "* Otherwise use argument name **`(keyword arguments)`** to take values\n",
        "* We first define `positional argument` and then `keyword arguments`\n"
      ]
    },
    {
      "cell_type": "code",
      "execution_count": null,
      "metadata": {
        "execution": {
          "iopub.execute_input": "2021-12-11T10:24:26.570469Z",
          "iopub.status.busy": "2021-12-11T10:24:26.570183Z",
          "iopub.status.idle": "2021-12-11T10:24:26.574882Z",
          "shell.execute_reply": "2021-12-11T10:24:26.574072Z",
          "shell.execute_reply.started": "2021-12-11T10:24:26.570434Z"
        },
        "id": "LpgDIWcYrP41"
      },
      "outputs": [],
      "source": [
        "## Create substraction_function(small_number,large_number) and return difference between large_number and small_number\n",
        "\n",
        "def subtraction_function(small_number,large_number):\n",
        " difference= large_number-small_number\n",
        "\n",
        " return(difference)"
      ]
    },
    {
      "cell_type": "code",
      "execution_count": null,
      "metadata": {
        "execution": {
          "iopub.execute_input": "2021-12-11T10:26:55.88569Z",
          "iopub.status.busy": "2021-12-11T10:26:55.88516Z",
          "iopub.status.idle": "2021-12-11T10:26:55.890293Z",
          "shell.execute_reply": "2021-12-11T10:26:55.889589Z",
          "shell.execute_reply.started": "2021-12-11T10:26:55.885652Z"
        },
        "id": "AX6Ku1j9rP41",
        "colab": {
          "base_uri": "https://localhost:8080/"
        },
        "outputId": "996a9e09-03c3-4da2-e2d2-b1640531edd4"
      },
      "outputs": [
        {
          "output_type": "stream",
          "name": "stdout",
          "text": [
            "The difference between 10 and 3 is: 7\n"
          ]
        }
      ],
      "source": [
        "# pass arguments in right order\n",
        "small_number = 3\n",
        "large_number = 10\n",
        "result = subtraction_function(small_number, large_number)\n",
        "print(f\"The difference between {large_number} and {small_number} is: {result}\")\n"
      ]
    },
    {
      "cell_type": "code",
      "execution_count": null,
      "metadata": {
        "execution": {
          "iopub.execute_input": "2021-12-11T10:27:51.964287Z",
          "iopub.status.busy": "2021-12-11T10:27:51.963803Z",
          "iopub.status.idle": "2021-12-11T10:27:51.969195Z",
          "shell.execute_reply": "2021-12-11T10:27:51.968619Z",
          "shell.execute_reply.started": "2021-12-11T10:27:51.964251Z"
        },
        "id": "zSWT96GurP41",
        "colab": {
          "base_uri": "https://localhost:8080/"
        },
        "outputId": "6ea698d9-40d0-4f8a-bba5-ce49f00289d8"
      },
      "outputs": [
        {
          "output_type": "stream",
          "name": "stdout",
          "text": [
            "Hello, Alice! You are 30 years old.\n",
            "Hello, Bob! You are 25 years old.\n"
          ]
        }
      ],
      "source": [
        "# always pass arguments using there name(keyword arguments) then order does not matter\n",
        "def greet(name, age):\n",
        "    print(f\"Hello, {name}! You are {age} years old.\")\n",
        "\n",
        "# Calling the function with keyword arguments\n",
        "greet(name=\"Alice\", age=30)\n",
        "greet(age=25, name=\"Bob\")\n",
        "\n"
      ]
    },
    {
      "cell_type": "code",
      "execution_count": null,
      "metadata": {
        "id": "i67t6Kga0Or7"
      },
      "outputs": [],
      "source": []
    },
    {
      "cell_type": "markdown",
      "metadata": {
        "id": "_NUdf1OsrP42"
      },
      "source": [
        "# ***`Scope of Variables`*** means that part of program where we can access particular variable\n",
        "* `Local Variable` => variables defined inside a function and can be only accessed from inside of that particular function\n",
        "* `Global Variable` => variables defined outside a function and can be accessed throughout program\n",
        "\n",
        "Let's define a global variable, `\"global_variable\"` outside function\n",
        "* We will return its value using a function `\"randome_function\"` and see that we would be able to access its value using that function also"
      ]
    },
    {
      "cell_type": "code",
      "execution_count": null,
      "metadata": {
        "execution": {
          "iopub.execute_input": "2021-12-11T11:00:38.758741Z",
          "iopub.status.busy": "2021-12-11T11:00:38.758474Z",
          "iopub.status.idle": "2021-12-11T11:00:38.762182Z",
          "shell.execute_reply": "2021-12-11T11:00:38.761618Z",
          "shell.execute_reply.started": "2021-12-11T11:00:38.758716Z"
        },
        "id": "e0BDQ-ccrP42"
      },
      "outputs": [],
      "source": [
        "#### Observe every output from here onwords #####\n",
        "# defining a global variable\n",
        "global_variable = 'variable outside of function'\n",
        "\n",
        "# defining function\n",
        "def random_function():\n",
        "    # accessing variable which is outside of this function\n",
        "    return global_variable"
      ]
    },
    {
      "cell_type": "code",
      "execution_count": null,
      "metadata": {
        "colab": {
          "base_uri": "https://localhost:8080/",
          "height": 36
        },
        "execution": {
          "iopub.execute_input": "2021-12-11T11:00:58.33357Z",
          "iopub.status.busy": "2021-12-11T11:00:58.33313Z",
          "iopub.status.idle": "2021-12-11T11:00:58.337597Z",
          "shell.execute_reply": "2021-12-11T11:00:58.337038Z",
          "shell.execute_reply.started": "2021-12-11T11:00:58.333513Z"
        },
        "id": "2hYmUr5BrP42",
        "outputId": "a1026ad0-69e4-4c4e-cc4d-8a0c43bbe9d9"
      },
      "outputs": [
        {
          "output_type": "execute_result",
          "data": {
            "text/plain": [
              "'variable outside of function'"
            ],
            "application/vnd.google.colaboratory.intrinsic+json": {
              "type": "string"
            }
          },
          "metadata": {},
          "execution_count": 112
        }
      ],
      "source": [
        "random_function()"
      ]
    },
    {
      "cell_type": "markdown",
      "metadata": {
        "id": "w7AB55isrP42"
      },
      "source": [
        "`See we can acess the data of golbal variable from Inside of the Function`\n",
        "\n",
        "# **`=> Let's see what will happen if we try to change value of global variable from Inside of the Function`**"
      ]
    },
    {
      "cell_type": "code",
      "execution_count": null,
      "metadata": {
        "execution": {
          "iopub.execute_input": "2021-12-11T11:08:27.657115Z",
          "iopub.status.busy": "2021-12-11T11:08:27.656836Z",
          "iopub.status.idle": "2021-12-11T11:08:27.661916Z",
          "shell.execute_reply": "2021-12-11T11:08:27.661004Z",
          "shell.execute_reply.started": "2021-12-11T11:08:27.657086Z"
        },
        "id": "1cOFox6FrP43"
      },
      "outputs": [],
      "source": [
        "#### Observe every output from here onwords #####\n",
        "# defining a global variable\n",
        "global_variable = 'variable outside of function'\n",
        "\n",
        "# defining function\n",
        "def random_function():\n",
        "    # changing value of global variable from inside of the function\n",
        "    global_variable = 'changing variable outside of function from inside of function'\n",
        "    # accessing variable which is outside of this function\n",
        "    return global_variable"
      ]
    },
    {
      "cell_type": "code",
      "execution_count": null,
      "metadata": {
        "colab": {
          "base_uri": "https://localhost:8080/"
        },
        "execution": {
          "iopub.execute_input": "2021-12-11T11:32:36.29647Z",
          "iopub.status.busy": "2021-12-11T11:32:36.296167Z",
          "iopub.status.idle": "2021-12-11T11:32:36.300653Z",
          "shell.execute_reply": "2021-12-11T11:32:36.30002Z",
          "shell.execute_reply.started": "2021-12-11T11:32:36.29644Z"
        },
        "id": "8ScwL6OUrP43",
        "outputId": "52a1a4e9-db7c-4a84-9e53-d52730da6670"
      },
      "outputs": [
        {
          "output_type": "stream",
          "name": "stdout",
          "text": [
            "changing variable outside of function from inside of function\n",
            "variable outside of function\n"
          ]
        }
      ],
      "source": [
        "print(random_function())\n",
        "print(global_variable)"
      ]
    },
    {
      "cell_type": "code",
      "execution_count": null,
      "metadata": {
        "id": "hgmmKd5O0Or8"
      },
      "outputs": [],
      "source": []
    },
    {
      "cell_type": "code",
      "execution_count": null,
      "metadata": {
        "id": "TKnttG4p0Or9"
      },
      "outputs": [],
      "source": []
    }
  ],
  "metadata": {
    "colab": {
      "collapsed_sections": [
        "slh282AprP4M",
        "W-7tOm5CrP4P",
        "7Mo7XNVNrP4W",
        "_jF5-7_PrP4e",
        "fI6TbJ9IrP4e",
        "kPw6N8X_rP45"
      ],
      "provenance": [],
      "include_colab_link": true
    },
    "kernelspec": {
      "display_name": "Python 3",
      "language": "python",
      "name": "python3"
    },
    "language_info": {
      "codemirror_mode": {
        "name": "ipython",
        "version": 3
      },
      "file_extension": ".py",
      "mimetype": "text/x-python",
      "name": "python",
      "nbconvert_exporter": "python",
      "pygments_lexer": "ipython3",
      "version": "3.7.4"
    }
  },
  "nbformat": 4,
  "nbformat_minor": 0
}